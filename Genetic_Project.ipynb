{
 "cells": [
  {
   "cell_type": "code",
   "execution_count": 9,
   "metadata": {},
   "outputs": [],
   "source": [
    "#Here I import all the essenital libraries\n",
    "import pandas as pd\n",
    "import matplotlib.pyplot as plt\n",
    "import numpy as np \n",
    "import seaborn as sns"
   ]
  },
  {
   "cell_type": "markdown",
   "metadata": {
    "id": "qGnnkRF9g7Tq"
   },
   "source": [
    "## 4: Clinical disease data Project\n",
    "1) Gene name\n",
    "\n",
    "2) Mutation ID number\n",
    "\n",
    "3) Mutation Position (chromosome & position)\n",
    "\n",
    "4) Mutation value (reference & alternate bases)\n",
    "\n",
    "5) Clinical significance (CLNSIG)\n",
    "\n",
    "6) Disease that is implicated\n"
   ]
  },
  {
   "cell_type": "markdown",
   "metadata": {
    "collapsed": true,
    "id": "vxoh6uLEg7Tr",
    "jupyter": {
     "outputs_hidden": true
    }
   },
   "source": [
    "### VCF file description (Summarized from version 4.1)\n",
    "\n",
    "```\n",
    "* The VCF specification:\n",
    "\n",
    "VCF is a text file format which contains meta-information lines, a header line, and then data lines each containing information about a position in the genome. The format also can contain genotype information on samples for each position.\n",
    "\n",
    "* Fixed fields:\n",
    "\n",
    "There are 8 fixed fields per record. All data lines are **tab-delimited**. In all cases, missing values are specified with a dot (‘.’). \n",
    "\n",
    "1. CHROM - chromosome number\n",
    "2. POS - position DNA nuceleotide count (bases) along the chromosome\n",
    "3. ID - The unique identifier for each mutation\n",
    "4. REF - reference base(s)\n",
    "5. ALT - alternate base(s)\n",
    "6. FILTER - filter status\n",
    "7. QUAL - quality\n",
    "8. INFO - a semicolon-separated series of keys with values in the format: <key>=<data>\n",
    "\n",
    "```\n",
    "### Applicable INFO field specifications\n",
    "\n",
    "```\n",
    "GENEINFO = <Gene name>\n",
    "CLNSIG =  <Clinical significance>\n",
    "CLNDN = <Disease name>\n",
    "```\n",
    "\n",
    "### Sample ClinVar data (vcf file format - not exactly the same as the file to download!)\n",
    "\n",
    "```\n",
    "##fileformat=VCFv4.1\n",
    "##fileDate=2019-03-19\n",
    "##source=ClinVar\n",
    "##reference=GRCh38\t\t\t\t\t\t\t\n",
    "#CHROM\tPOS\tID\tREF\tALT\tQUAL\tFILTER\tINFO\n",
    "1\t949523\trs786201005\tC\tT\t.\t.\tGENEINFO=ISG15;CLNSIG=5\n",
    "1\t949696\trs672601345\tC\tCG\t.\t.\tGENEINFO=ISG15;CLNSIG=5;CLNDN=Cancer\n",
    "1\t949739\trs672601312\tG\tT\t.\t.\tGENEINFO=ISG15;CLNDBN=Cancer\n",
    "1\t955597\trs115173026\tG\tT\t.\t.\tGENEINFO=AGRN;CLNSIG=2; CLNDN=Cancer\n",
    "1\t955619\trs201073369\tG\tC\t.\t.\tGENEINFO=AGG;CLNDN=Heart_dis \n",
    "1\t957640\trs6657048\tC\tT\t.\t.\tGENEINFO=AGG;CLNSIG=3;CLNDN=Heart_dis \n",
    "1\t976059\trs544749044\tC\tT\t.\t.\tGENEINFO=AGG;CLNSIG=0;CLNDN=Heart_dis \n",
    "```"
   ]
  },
  {
   "cell_type": "code",
   "execution_count": 13,
   "metadata": {
    "id": "qPhDns3zg7Tr"
   },
   "outputs": [],
   "source": [
    "# 4) Your code here - can use as many code blocks as you would like\n",
    "df = pd.read_csv('clinvar_final.txt', sep='\\t', comment='#', header=None, low_memory=False)\n",
    "pd.set_option('display.max_colwidth', None)"
   ]
  },
  {
   "cell_type": "code",
   "execution_count": 14,
   "metadata": {},
   "outputs": [
    {
     "data": {
      "text/html": [
       "<div>\n",
       "<style scoped>\n",
       "    .dataframe tbody tr th:only-of-type {\n",
       "        vertical-align: middle;\n",
       "    }\n",
       "\n",
       "    .dataframe tbody tr th {\n",
       "        vertical-align: top;\n",
       "    }\n",
       "\n",
       "    .dataframe thead th {\n",
       "        text-align: right;\n",
       "    }\n",
       "</style>\n",
       "<table border=\"1\" class=\"dataframe\">\n",
       "  <thead>\n",
       "    <tr style=\"text-align: right;\">\n",
       "      <th></th>\n",
       "      <th>0</th>\n",
       "      <th>1</th>\n",
       "      <th>2</th>\n",
       "      <th>3</th>\n",
       "      <th>4</th>\n",
       "      <th>5</th>\n",
       "      <th>6</th>\n",
       "      <th>7</th>\n",
       "    </tr>\n",
       "  </thead>\n",
       "  <tbody>\n",
       "    <tr>\n",
       "      <th>0</th>\n",
       "      <td>CHROM</td>\n",
       "      <td>POS</td>\n",
       "      <td>ID</td>\n",
       "      <td>REF</td>\n",
       "      <td>ALT</td>\n",
       "      <td>FILTER</td>\n",
       "      <td>QUAL</td>\n",
       "      <td>INFO</td>\n",
       "    </tr>\n",
       "    <tr>\n",
       "      <th>1</th>\n",
       "      <td>1</td>\n",
       "      <td>1014O42</td>\n",
       "      <td>475283</td>\n",
       "      <td>G</td>\n",
       "      <td>A</td>\n",
       "      <td>.</td>\n",
       "      <td>.</td>\n",
       "      <td>AF_ESP=0.00546;AF_EXAC=0.00165;AF_TGP=0.00619;ALLELEID=446939;CLNDISDB=MedGen:C4015293,OMIM:616126,Orphanet:ORPHA319563;CLNDN=Immunodeficiency_38_with_basal_ganglia_calcification;CLNHGVS=NC_000001.11:g.1014042G&gt;A;CLNREVSTAT=criteria_provided,_single_submitter;CLNSIG=Benign;CLNVC=single_nucleotide_variant;CLNVCSO=SO:0001483;GENEINFO=ISG15:9636;MC=SO:0001583|missense_variant;ORIGIN=1;RS=143888043</td>\n",
       "    </tr>\n",
       "    <tr>\n",
       "      <th>2</th>\n",
       "      <td>1</td>\n",
       "      <td>1O14122</td>\n",
       "      <td>542074</td>\n",
       "      <td>C</td>\n",
       "      <td>T</td>\n",
       "      <td>.</td>\n",
       "      <td>.</td>\n",
       "      <td>AF_ESP=0.00015;AF_EXAC=0.00010;ALLELEID=514926;CLNDISDB=MedGen:C4015293,OMIM:616126,Orphanet:ORPHA319563;CLNDN=Immunodeficiency_38_with_basal_ganglia_calcification;CLNHGVS=NC_000001.11:g.1014122C&gt;T;CLNREVSTAT=criteria_provided,_single_submitter;CLNSIG=Uncertain_significance;CLNVC=single_nucleotide_variant;CLNVCSO=SO:0001483;GENEINFO=ISG15:9636;MC=SO:0001583|missense_variant;ORIGIN=1;RS=150861311</td>\n",
       "    </tr>\n",
       "    <tr>\n",
       "      <th>3</th>\n",
       "      <td>1</td>\n",
       "      <td>1014143</td>\n",
       "      <td>183381</td>\n",
       "      <td>C</td>\n",
       "      <td>T</td>\n",
       "      <td>.</td>\n",
       "      <td>.</td>\n",
       "      <td>ALLELEID=181485;CLNDISDB=MedGen:C4015293,OMIM:616126,Orphanet:ORPHA319563;CLNDN=Immunodeficiency_38_with_basal_ganglia_calcification;CLNHGVS=NC_000001.11:g.1014143C&gt;T;CLNREVSTAT=no_assertion_criteria_provided;CLNSIG=Pathogenic;CLNVC=single_nucleotide_variant;CLNVCSO=SO:0001483;CLNVI=OMIM_Allelic_Variant:147571.0003;GENEINFO=ISG15:9636;MC=SO:0001587|nonsense;ORIGIN=1;RS=786201005</td>\n",
       "    </tr>\n",
       "    <tr>\n",
       "      <th>4</th>\n",
       "      <td>1</td>\n",
       "      <td>1014179</td>\n",
       "      <td>542075</td>\n",
       "      <td>C</td>\n",
       "      <td>T</td>\n",
       "      <td>.</td>\n",
       "      <td>.</td>\n",
       "      <td>ALLELEID=514896;CLNDISDB=MedGen:C4015293,OMIM:616126,Orphanet:ORPHA319563;CLNDN=Immunodeficiency_38_with_basal_ganglia_calcification;CLNHGVS=NC_000001.11:g.1014179C&gt;T;CLNREVSTAT=criteria_provided,_single_submitter;CLNSIG=Uncertain_significance;CLNVC=single_nucleotide_variant;CLNVCSO=SO:0001483;GENEINFO=ISG15:9636;MC=SO:0001583|missense_variant;ORIGIN=1;RS=1553169766</td>\n",
       "    </tr>\n",
       "  </tbody>\n",
       "</table>\n",
       "</div>"
      ],
      "text/plain": [
       "       0        1       2    3    4       5     6  \\\n",
       "0  CHROM      POS      ID  REF  ALT  FILTER  QUAL   \n",
       "1      1  1014O42  475283    G    A       .     .   \n",
       "2      1  1O14122  542074    C    T       .     .   \n",
       "3      1  1014143  183381    C    T       .     .   \n",
       "4      1  1014179  542075    C    T       .     .   \n",
       "\n",
       "                                                                                                                                                                                                                                                                                                                                                                                                                7  \n",
       "0                                                                                                                                                                                                                                                                                                                                                                                                            INFO  \n",
       "1   AF_ESP=0.00546;AF_EXAC=0.00165;AF_TGP=0.00619;ALLELEID=446939;CLNDISDB=MedGen:C4015293,OMIM:616126,Orphanet:ORPHA319563;CLNDN=Immunodeficiency_38_with_basal_ganglia_calcification;CLNHGVS=NC_000001.11:g.1014042G>A;CLNREVSTAT=criteria_provided,_single_submitter;CLNSIG=Benign;CLNVC=single_nucleotide_variant;CLNVCSO=SO:0001483;GENEINFO=ISG15:9636;MC=SO:0001583|missense_variant;ORIGIN=1;RS=143888043  \n",
       "2  AF_ESP=0.00015;AF_EXAC=0.00010;ALLELEID=514926;CLNDISDB=MedGen:C4015293,OMIM:616126,Orphanet:ORPHA319563;CLNDN=Immunodeficiency_38_with_basal_ganglia_calcification;CLNHGVS=NC_000001.11:g.1014122C>T;CLNREVSTAT=criteria_provided,_single_submitter;CLNSIG=Uncertain_significance;CLNVC=single_nucleotide_variant;CLNVCSO=SO:0001483;GENEINFO=ISG15:9636;MC=SO:0001583|missense_variant;ORIGIN=1;RS=150861311  \n",
       "3                   ALLELEID=181485;CLNDISDB=MedGen:C4015293,OMIM:616126,Orphanet:ORPHA319563;CLNDN=Immunodeficiency_38_with_basal_ganglia_calcification;CLNHGVS=NC_000001.11:g.1014143C>T;CLNREVSTAT=no_assertion_criteria_provided;CLNSIG=Pathogenic;CLNVC=single_nucleotide_variant;CLNVCSO=SO:0001483;CLNVI=OMIM_Allelic_Variant:147571.0003;GENEINFO=ISG15:9636;MC=SO:0001587|nonsense;ORIGIN=1;RS=786201005  \n",
       "4                                ALLELEID=514896;CLNDISDB=MedGen:C4015293,OMIM:616126,Orphanet:ORPHA319563;CLNDN=Immunodeficiency_38_with_basal_ganglia_calcification;CLNHGVS=NC_000001.11:g.1014179C>T;CLNREVSTAT=criteria_provided,_single_submitter;CLNSIG=Uncertain_significance;CLNVC=single_nucleotide_variant;CLNVCSO=SO:0001483;GENEINFO=ISG15:9636;MC=SO:0001583|missense_variant;ORIGIN=1;RS=1553169766  "
      ]
     },
     "execution_count": 14,
     "metadata": {},
     "output_type": "execute_result"
    }
   ],
   "source": [
    "df.head()"
   ]
  },
  {
   "cell_type": "code",
   "execution_count": 15,
   "metadata": {},
   "outputs": [
    {
     "data": {
      "text/plain": [
       "(102322, 8)"
      ]
     },
     "execution_count": 15,
     "metadata": {},
     "output_type": "execute_result"
    }
   ],
   "source": [
    "df.shape"
   ]
  },
  {
   "cell_type": "code",
   "execution_count": 16,
   "metadata": {},
   "outputs": [],
   "source": [
    "# Extract information and create new columns for the essenital features listed in qual\n",
    "df['GENEINFO'] = df[7].str.extract(r'GENEINFO=([^;]+)', expand=False)\n",
    "df['CLNSIG'] = df[7].str.extract( r'CLNSIG=([^;]+)', expand=False)\n",
    "df['CLNDN'] = df[7].str.extract( r'CLNDN=([^;]+)', expand=False)"
   ]
  },
  {
   "cell_type": "code",
   "execution_count": 17,
   "metadata": {},
   "outputs": [
    {
     "data": {
      "text/html": [
       "<div>\n",
       "<style scoped>\n",
       "    .dataframe tbody tr th:only-of-type {\n",
       "        vertical-align: middle;\n",
       "    }\n",
       "\n",
       "    .dataframe tbody tr th {\n",
       "        vertical-align: top;\n",
       "    }\n",
       "\n",
       "    .dataframe thead th {\n",
       "        text-align: right;\n",
       "    }\n",
       "</style>\n",
       "<table border=\"1\" class=\"dataframe\">\n",
       "  <thead>\n",
       "    <tr style=\"text-align: right;\">\n",
       "      <th></th>\n",
       "      <th>0</th>\n",
       "      <th>1</th>\n",
       "      <th>2</th>\n",
       "      <th>3</th>\n",
       "      <th>4</th>\n",
       "      <th>5</th>\n",
       "      <th>6</th>\n",
       "      <th>7</th>\n",
       "      <th>GENEINFO</th>\n",
       "      <th>CLNSIG</th>\n",
       "      <th>CLNDN</th>\n",
       "    </tr>\n",
       "  </thead>\n",
       "  <tbody>\n",
       "    <tr>\n",
       "      <th>0</th>\n",
       "      <td>CHROM</td>\n",
       "      <td>POS</td>\n",
       "      <td>ID</td>\n",
       "      <td>REF</td>\n",
       "      <td>ALT</td>\n",
       "      <td>FILTER</td>\n",
       "      <td>QUAL</td>\n",
       "      <td>INFO</td>\n",
       "      <td>NaN</td>\n",
       "      <td>NaN</td>\n",
       "      <td>NaN</td>\n",
       "    </tr>\n",
       "    <tr>\n",
       "      <th>1</th>\n",
       "      <td>1</td>\n",
       "      <td>1014O42</td>\n",
       "      <td>475283</td>\n",
       "      <td>G</td>\n",
       "      <td>A</td>\n",
       "      <td>.</td>\n",
       "      <td>.</td>\n",
       "      <td>AF_ESP=0.00546;AF_EXAC=0.00165;AF_TGP=0.00619;ALLELEID=446939;CLNDISDB=MedGen:C4015293,OMIM:616126,Orphanet:ORPHA319563;CLNDN=Immunodeficiency_38_with_basal_ganglia_calcification;CLNHGVS=NC_000001.11:g.1014042G&gt;A;CLNREVSTAT=criteria_provided,_single_submitter;CLNSIG=Benign;CLNVC=single_nucleotide_variant;CLNVCSO=SO:0001483;GENEINFO=ISG15:9636;MC=SO:0001583|missense_variant;ORIGIN=1;RS=143888043</td>\n",
       "      <td>ISG15:9636</td>\n",
       "      <td>Benign</td>\n",
       "      <td>Immunodeficiency_38_with_basal_ganglia_calcification</td>\n",
       "    </tr>\n",
       "    <tr>\n",
       "      <th>2</th>\n",
       "      <td>1</td>\n",
       "      <td>1O14122</td>\n",
       "      <td>542074</td>\n",
       "      <td>C</td>\n",
       "      <td>T</td>\n",
       "      <td>.</td>\n",
       "      <td>.</td>\n",
       "      <td>AF_ESP=0.00015;AF_EXAC=0.00010;ALLELEID=514926;CLNDISDB=MedGen:C4015293,OMIM:616126,Orphanet:ORPHA319563;CLNDN=Immunodeficiency_38_with_basal_ganglia_calcification;CLNHGVS=NC_000001.11:g.1014122C&gt;T;CLNREVSTAT=criteria_provided,_single_submitter;CLNSIG=Uncertain_significance;CLNVC=single_nucleotide_variant;CLNVCSO=SO:0001483;GENEINFO=ISG15:9636;MC=SO:0001583|missense_variant;ORIGIN=1;RS=150861311</td>\n",
       "      <td>ISG15:9636</td>\n",
       "      <td>Uncertain_significance</td>\n",
       "      <td>Immunodeficiency_38_with_basal_ganglia_calcification</td>\n",
       "    </tr>\n",
       "    <tr>\n",
       "      <th>3</th>\n",
       "      <td>1</td>\n",
       "      <td>1014143</td>\n",
       "      <td>183381</td>\n",
       "      <td>C</td>\n",
       "      <td>T</td>\n",
       "      <td>.</td>\n",
       "      <td>.</td>\n",
       "      <td>ALLELEID=181485;CLNDISDB=MedGen:C4015293,OMIM:616126,Orphanet:ORPHA319563;CLNDN=Immunodeficiency_38_with_basal_ganglia_calcification;CLNHGVS=NC_000001.11:g.1014143C&gt;T;CLNREVSTAT=no_assertion_criteria_provided;CLNSIG=Pathogenic;CLNVC=single_nucleotide_variant;CLNVCSO=SO:0001483;CLNVI=OMIM_Allelic_Variant:147571.0003;GENEINFO=ISG15:9636;MC=SO:0001587|nonsense;ORIGIN=1;RS=786201005</td>\n",
       "      <td>ISG15:9636</td>\n",
       "      <td>Pathogenic</td>\n",
       "      <td>Immunodeficiency_38_with_basal_ganglia_calcification</td>\n",
       "    </tr>\n",
       "    <tr>\n",
       "      <th>4</th>\n",
       "      <td>1</td>\n",
       "      <td>1014179</td>\n",
       "      <td>542075</td>\n",
       "      <td>C</td>\n",
       "      <td>T</td>\n",
       "      <td>.</td>\n",
       "      <td>.</td>\n",
       "      <td>ALLELEID=514896;CLNDISDB=MedGen:C4015293,OMIM:616126,Orphanet:ORPHA319563;CLNDN=Immunodeficiency_38_with_basal_ganglia_calcification;CLNHGVS=NC_000001.11:g.1014179C&gt;T;CLNREVSTAT=criteria_provided,_single_submitter;CLNSIG=Uncertain_significance;CLNVC=single_nucleotide_variant;CLNVCSO=SO:0001483;GENEINFO=ISG15:9636;MC=SO:0001583|missense_variant;ORIGIN=1;RS=1553169766</td>\n",
       "      <td>ISG15:9636</td>\n",
       "      <td>Uncertain_significance</td>\n",
       "      <td>Immunodeficiency_38_with_basal_ganglia_calcification</td>\n",
       "    </tr>\n",
       "  </tbody>\n",
       "</table>\n",
       "</div>"
      ],
      "text/plain": [
       "       0        1       2    3    4       5     6  \\\n",
       "0  CHROM      POS      ID  REF  ALT  FILTER  QUAL   \n",
       "1      1  1014O42  475283    G    A       .     .   \n",
       "2      1  1O14122  542074    C    T       .     .   \n",
       "3      1  1014143  183381    C    T       .     .   \n",
       "4      1  1014179  542075    C    T       .     .   \n",
       "\n",
       "                                                                                                                                                                                                                                                                                                                                                                                                                7  \\\n",
       "0                                                                                                                                                                                                                                                                                                                                                                                                            INFO   \n",
       "1   AF_ESP=0.00546;AF_EXAC=0.00165;AF_TGP=0.00619;ALLELEID=446939;CLNDISDB=MedGen:C4015293,OMIM:616126,Orphanet:ORPHA319563;CLNDN=Immunodeficiency_38_with_basal_ganglia_calcification;CLNHGVS=NC_000001.11:g.1014042G>A;CLNREVSTAT=criteria_provided,_single_submitter;CLNSIG=Benign;CLNVC=single_nucleotide_variant;CLNVCSO=SO:0001483;GENEINFO=ISG15:9636;MC=SO:0001583|missense_variant;ORIGIN=1;RS=143888043   \n",
       "2  AF_ESP=0.00015;AF_EXAC=0.00010;ALLELEID=514926;CLNDISDB=MedGen:C4015293,OMIM:616126,Orphanet:ORPHA319563;CLNDN=Immunodeficiency_38_with_basal_ganglia_calcification;CLNHGVS=NC_000001.11:g.1014122C>T;CLNREVSTAT=criteria_provided,_single_submitter;CLNSIG=Uncertain_significance;CLNVC=single_nucleotide_variant;CLNVCSO=SO:0001483;GENEINFO=ISG15:9636;MC=SO:0001583|missense_variant;ORIGIN=1;RS=150861311   \n",
       "3                   ALLELEID=181485;CLNDISDB=MedGen:C4015293,OMIM:616126,Orphanet:ORPHA319563;CLNDN=Immunodeficiency_38_with_basal_ganglia_calcification;CLNHGVS=NC_000001.11:g.1014143C>T;CLNREVSTAT=no_assertion_criteria_provided;CLNSIG=Pathogenic;CLNVC=single_nucleotide_variant;CLNVCSO=SO:0001483;CLNVI=OMIM_Allelic_Variant:147571.0003;GENEINFO=ISG15:9636;MC=SO:0001587|nonsense;ORIGIN=1;RS=786201005   \n",
       "4                                ALLELEID=514896;CLNDISDB=MedGen:C4015293,OMIM:616126,Orphanet:ORPHA319563;CLNDN=Immunodeficiency_38_with_basal_ganglia_calcification;CLNHGVS=NC_000001.11:g.1014179C>T;CLNREVSTAT=criteria_provided,_single_submitter;CLNSIG=Uncertain_significance;CLNVC=single_nucleotide_variant;CLNVCSO=SO:0001483;GENEINFO=ISG15:9636;MC=SO:0001583|missense_variant;ORIGIN=1;RS=1553169766   \n",
       "\n",
       "     GENEINFO                  CLNSIG  \\\n",
       "0         NaN                     NaN   \n",
       "1  ISG15:9636                  Benign   \n",
       "2  ISG15:9636  Uncertain_significance   \n",
       "3  ISG15:9636              Pathogenic   \n",
       "4  ISG15:9636  Uncertain_significance   \n",
       "\n",
       "                                                  CLNDN  \n",
       "0                                                   NaN  \n",
       "1  Immunodeficiency_38_with_basal_ganglia_calcification  \n",
       "2  Immunodeficiency_38_with_basal_ganglia_calcification  \n",
       "3  Immunodeficiency_38_with_basal_ganglia_calcification  \n",
       "4  Immunodeficiency_38_with_basal_ganglia_calcification  "
      ]
     },
     "execution_count": 17,
     "metadata": {},
     "output_type": "execute_result"
    }
   ],
   "source": [
    "df.head()"
   ]
  },
  {
   "cell_type": "code",
   "execution_count": 18,
   "metadata": {},
   "outputs": [],
   "source": [
    "df.columns=['CHROM', 'POS', 'ID', 'REF', 'ALT', 'FILTER', 'QUAL', 'INFO', 'GENEINFO', 'CLNSIG', 'CLNDN']\n",
    "df=df.drop(0)"
   ]
  },
  {
   "cell_type": "code",
   "execution_count": 19,
   "metadata": {},
   "outputs": [
    {
     "data": {
      "text/html": [
       "<div>\n",
       "<style scoped>\n",
       "    .dataframe tbody tr th:only-of-type {\n",
       "        vertical-align: middle;\n",
       "    }\n",
       "\n",
       "    .dataframe tbody tr th {\n",
       "        vertical-align: top;\n",
       "    }\n",
       "\n",
       "    .dataframe thead th {\n",
       "        text-align: right;\n",
       "    }\n",
       "</style>\n",
       "<table border=\"1\" class=\"dataframe\">\n",
       "  <thead>\n",
       "    <tr style=\"text-align: right;\">\n",
       "      <th></th>\n",
       "      <th>CHROM</th>\n",
       "      <th>POS</th>\n",
       "      <th>ID</th>\n",
       "      <th>REF</th>\n",
       "      <th>ALT</th>\n",
       "      <th>GENEINFO</th>\n",
       "      <th>CLNSIG</th>\n",
       "      <th>CLNDN</th>\n",
       "    </tr>\n",
       "  </thead>\n",
       "  <tbody>\n",
       "    <tr>\n",
       "      <th>1</th>\n",
       "      <td>1</td>\n",
       "      <td>1014O42</td>\n",
       "      <td>475283</td>\n",
       "      <td>G</td>\n",
       "      <td>A</td>\n",
       "      <td>ISG15:9636</td>\n",
       "      <td>Benign</td>\n",
       "      <td>Immunodeficiency_38_with_basal_ganglia_calcification</td>\n",
       "    </tr>\n",
       "    <tr>\n",
       "      <th>2</th>\n",
       "      <td>1</td>\n",
       "      <td>1O14122</td>\n",
       "      <td>542074</td>\n",
       "      <td>C</td>\n",
       "      <td>T</td>\n",
       "      <td>ISG15:9636</td>\n",
       "      <td>Uncertain_significance</td>\n",
       "      <td>Immunodeficiency_38_with_basal_ganglia_calcification</td>\n",
       "    </tr>\n",
       "    <tr>\n",
       "      <th>3</th>\n",
       "      <td>1</td>\n",
       "      <td>1014143</td>\n",
       "      <td>183381</td>\n",
       "      <td>C</td>\n",
       "      <td>T</td>\n",
       "      <td>ISG15:9636</td>\n",
       "      <td>Pathogenic</td>\n",
       "      <td>Immunodeficiency_38_with_basal_ganglia_calcification</td>\n",
       "    </tr>\n",
       "    <tr>\n",
       "      <th>4</th>\n",
       "      <td>1</td>\n",
       "      <td>1014179</td>\n",
       "      <td>542075</td>\n",
       "      <td>C</td>\n",
       "      <td>T</td>\n",
       "      <td>ISG15:9636</td>\n",
       "      <td>Uncertain_significance</td>\n",
       "      <td>Immunodeficiency_38_with_basal_ganglia_calcification</td>\n",
       "    </tr>\n",
       "    <tr>\n",
       "      <th>5</th>\n",
       "      <td>1</td>\n",
       "      <td>1014217</td>\n",
       "      <td>475278</td>\n",
       "      <td>C</td>\n",
       "      <td>T</td>\n",
       "      <td>ISG15:9636</td>\n",
       "      <td>Benign</td>\n",
       "      <td>Immunodeficiency_38_with_basal_ganglia_calcification</td>\n",
       "    </tr>\n",
       "  </tbody>\n",
       "</table>\n",
       "</div>"
      ],
      "text/plain": [
       "  CHROM      POS      ID REF ALT    GENEINFO                  CLNSIG  \\\n",
       "1     1  1014O42  475283   G   A  ISG15:9636                  Benign   \n",
       "2     1  1O14122  542074   C   T  ISG15:9636  Uncertain_significance   \n",
       "3     1  1014143  183381   C   T  ISG15:9636              Pathogenic   \n",
       "4     1  1014179  542075   C   T  ISG15:9636  Uncertain_significance   \n",
       "5     1  1014217  475278   C   T  ISG15:9636                  Benign   \n",
       "\n",
       "                                                  CLNDN  \n",
       "1  Immunodeficiency_38_with_basal_ganglia_calcification  \n",
       "2  Immunodeficiency_38_with_basal_ganglia_calcification  \n",
       "3  Immunodeficiency_38_with_basal_ganglia_calcification  \n",
       "4  Immunodeficiency_38_with_basal_ganglia_calcification  \n",
       "5  Immunodeficiency_38_with_basal_ganglia_calcification  "
      ]
     },
     "execution_count": 19,
     "metadata": {},
     "output_type": "execute_result"
    }
   ],
   "source": [
    "df=df[['CHROM', 'POS', 'ID', 'REF', 'ALT', 'GENEINFO', 'CLNSIG', 'CLNDN']]\n",
    "df.head()"
   ]
  },
  {
   "cell_type": "code",
   "execution_count": 20,
   "metadata": {},
   "outputs": [
    {
     "data": {
      "text/plain": [
       "CHROM       object\n",
       "POS         object\n",
       "ID          object\n",
       "REF         object\n",
       "ALT         object\n",
       "GENEINFO    object\n",
       "CLNSIG      object\n",
       "CLNDN       object\n",
       "dtype: object"
      ]
     },
     "execution_count": 20,
     "metadata": {},
     "output_type": "execute_result"
    }
   ],
   "source": [
    "df.dtypes"
   ]
  },
  {
   "cell_type": "code",
   "execution_count": 21,
   "metadata": {},
   "outputs": [
    {
     "data": {
      "text/plain": [
       "CLNDN\n",
       "not_specified                                                           14400\n",
       "Hereditary_cancer-predisposing_syndrome                                  2951\n",
       "Limb-girdle_muscular_dystrophy,_type_2J|Dilated_cardiomyopathy_1G        2588\n",
       "Lynch_syndrome                                                           1717\n",
       "not_specified|not_provided                                               1190\n",
       "                                                                        ...  \n",
       "Neuroblastoma_3|Large_Cell/Anaplastic_Medulloblastoma                       1\n",
       "Retinoblastoma|Neuroblastoma_3                                              1\n",
       "Pilocytic_astrocytoma                                                       1\n",
       "B_Lymphoblastic_Leukemia/Lymphoma_with_Hyperdiploidy|Neuroblastoma_3        1\n",
       "Cowden_syndrome|Hereditary_cancer-predisposing_syndrome                     1\n",
       "Name: count, Length: 6139, dtype: int64"
      ]
     },
     "execution_count": 21,
     "metadata": {},
     "output_type": "execute_result"
    }
   ],
   "source": [
    "df.CLNDN.value_counts()"
   ]
  },
  {
   "cell_type": "code",
   "execution_count": 22,
   "metadata": {},
   "outputs": [
    {
     "data": {
      "text/plain": [
       "CLNSIG\n",
       "Uncertain_significance                                                                      47980\n",
       "Likely_benign                                                                               17885\n",
       "Pathogenic                                                                                  12313\n",
       "Likely_pathogenic                                                                            6269\n",
       "Benign                                                                                       6138\n",
       "Conflicting_interpretations_of_pathogenicity                                                 5404\n",
       "Benign/Likely_benign                                                                         3338\n",
       "Pathogenic/Likely_pathogenic                                                                  854\n",
       "risk_factor                                                                                    98\n",
       "association                                                                                    70\n",
       "drug_response                                                                                  41\n",
       "Affects                                                                                        31\n",
       "Conflicting_interpretations_of_pathogenicity,_risk_factor                                      14\n",
       "other                                                                                          12\n",
       "Pathogenic,_risk_factor                                                                        11\n",
       "Pathogenic/Likely_pathogenic,_other                                                             8\n",
       "Conflicting_interpretations_of_pathogenicity,_other                                             8\n",
       "Benign/Likely_benign,_risk_factor                                                               7\n",
       "Pathogenic/Likely_pathogenic,_risk_factor                                                       6\n",
       "protective                                                                                      6\n",
       "Likely_pathogenic,_risk_factor                                                                  5\n",
       "protective,_risk_factor                                                                         4\n",
       "Pathogenic,_other                                                                               2\n",
       "Pathogenic,_Affects                                                                             2\n",
       "Uncertain_significance,_risk_factor                                                             1\n",
       "Benign/Likely_benign,_protective                                                                1\n",
       "Affects,_risk_factor                                                                            1\n",
       "Conflicting_interpretations_of_pathogenicity,_protective                                        1\n",
       "Likely_pathogenic,_other                                                                        1\n",
       "Conflicting_interpretations_of_pathogenicity,_Affects,_other                                    1\n",
       "Benign,_drug_response                                                                           1\n",
       "Conflicting_interpretations_of_pathogenicity,_Affects,_association,_drug_response,_other        1\n",
       "Pathogenic,_protective                                                                          1\n",
       "Benign,_other                                                                                   1\n",
       "Conflicting_interpretations_of_pathogenicity,_association                                       1\n",
       "Likely_pathogenic,_association                                                                  1\n",
       "Conflicting_interpretations_of_pathogenicity,_Affects                                           1\n",
       "Pathogenic,_association,_protective                                                             1\n",
       "Likely_benign,_other                                                                            1\n",
       "Benign/Likely_benign,_other                                                                     1\n",
       "Conflicting_interpretations_of_pathogenicity,_other,_risk_factor                                1\n",
       "Benign/Likely_benign,_association                                                               1\n",
       "Name: count, dtype: int64"
      ]
     },
     "execution_count": 22,
     "metadata": {},
     "output_type": "execute_result"
    }
   ],
   "source": [
    "df.CLNSIG.value_counts()"
   ]
  },
  {
   "cell_type": "code",
   "execution_count": 23,
   "metadata": {},
   "outputs": [
    {
     "data": {
      "text/plain": [
       "CHROM           0\n",
       "POS             0\n",
       "ID              0\n",
       "REF             0\n",
       "ALT             0\n",
       "GENEINFO     4718\n",
       "CLNSIG       1797\n",
       "CLNDN       12670\n",
       "dtype: int64"
      ]
     },
     "execution_count": 23,
     "metadata": {},
     "output_type": "execute_result"
    }
   ],
   "source": [
    "df.isnull().sum()"
   ]
  },
  {
   "cell_type": "code",
   "execution_count": 24,
   "metadata": {},
   "outputs": [
    {
     "data": {
      "text/html": [
       "<div>\n",
       "<style scoped>\n",
       "    .dataframe tbody tr th:only-of-type {\n",
       "        vertical-align: middle;\n",
       "    }\n",
       "\n",
       "    .dataframe tbody tr th {\n",
       "        vertical-align: top;\n",
       "    }\n",
       "\n",
       "    .dataframe thead th {\n",
       "        text-align: right;\n",
       "    }\n",
       "</style>\n",
       "<table border=\"1\" class=\"dataframe\">\n",
       "  <thead>\n",
       "    <tr style=\"text-align: right;\">\n",
       "      <th></th>\n",
       "      <th>CHROM</th>\n",
       "      <th>POS</th>\n",
       "      <th>ID</th>\n",
       "      <th>REF</th>\n",
       "      <th>ALT</th>\n",
       "      <th>GENEINFO</th>\n",
       "      <th>CLNSIG</th>\n",
       "      <th>CLNDN</th>\n",
       "    </tr>\n",
       "  </thead>\n",
       "  <tbody>\n",
       "    <tr>\n",
       "      <th>3</th>\n",
       "      <td>1</td>\n",
       "      <td>1014143</td>\n",
       "      <td>183381</td>\n",
       "      <td>C</td>\n",
       "      <td>T</td>\n",
       "      <td>ISG15:9636</td>\n",
       "      <td>Pathogenic</td>\n",
       "      <td>Immunodeficiency_38_with_basal_ganglia_calcification</td>\n",
       "    </tr>\n",
       "    <tr>\n",
       "      <th>9</th>\n",
       "      <td>1</td>\n",
       "      <td>1014316</td>\n",
       "      <td>161455</td>\n",
       "      <td>C</td>\n",
       "      <td>CG</td>\n",
       "      <td>ISG15:9636</td>\n",
       "      <td>Pathogenic</td>\n",
       "      <td>Immunodeficiency_38_with_basal_ganglia_calcification</td>\n",
       "    </tr>\n",
       "    <tr>\n",
       "      <th>10</th>\n",
       "      <td>1</td>\n",
       "      <td>1014359</td>\n",
       "      <td>161454</td>\n",
       "      <td>G</td>\n",
       "      <td>T</td>\n",
       "      <td>ISG15:9636</td>\n",
       "      <td>Pathogenic</td>\n",
       "      <td>Immunodeficiency_38_with_basal_ganglia_calcification</td>\n",
       "    </tr>\n",
       "    <tr>\n",
       "      <th>25</th>\n",
       "      <td>1</td>\n",
       "      <td>1022225</td>\n",
       "      <td>243036</td>\n",
       "      <td>G</td>\n",
       "      <td>A</td>\n",
       "      <td>AGRN:375790</td>\n",
       "      <td>Pathogenic</td>\n",
       "      <td>Congenital_myasthenic_syndrome</td>\n",
       "    </tr>\n",
       "    <tr>\n",
       "      <th>27</th>\n",
       "      <td>1</td>\n",
       "      <td>1022313</td>\n",
       "      <td>243037</td>\n",
       "      <td>A</td>\n",
       "      <td>T</td>\n",
       "      <td>AGRN:375790</td>\n",
       "      <td>Pathogenic</td>\n",
       "      <td>Congenital_myasthenic_syndrome</td>\n",
       "    </tr>\n",
       "  </tbody>\n",
       "</table>\n",
       "</div>"
      ],
      "text/plain": [
       "   CHROM      POS      ID REF ALT     GENEINFO      CLNSIG  \\\n",
       "3      1  1014143  183381   C   T   ISG15:9636  Pathogenic   \n",
       "9      1  1014316  161455   C  CG   ISG15:9636  Pathogenic   \n",
       "10     1  1014359  161454   G   T   ISG15:9636  Pathogenic   \n",
       "25     1  1022225  243036   G   A  AGRN:375790  Pathogenic   \n",
       "27     1  1022313  243037   A   T  AGRN:375790  Pathogenic   \n",
       "\n",
       "                                                   CLNDN  \n",
       "3   Immunodeficiency_38_with_basal_ganglia_calcification  \n",
       "9   Immunodeficiency_38_with_basal_ganglia_calcification  \n",
       "10  Immunodeficiency_38_with_basal_ganglia_calcification  \n",
       "25                        Congenital_myasthenic_syndrome  \n",
       "27                        Congenital_myasthenic_syndrome  "
      ]
     },
     "execution_count": 24,
     "metadata": {},
     "output_type": "execute_result"
    }
   ],
   "source": [
    "df=df[df['CLNSIG'].isin(['Pathogenic', 'Pathogenic/Likely_pathogenic', 'Pathogenic,_risk_factor', 'Pathogenic/Likely_pathogenic,_other', \n",
    "                                         'Pathogenic,_other', 'Pathogenic,_Affects', 'Pathogenic,_protective', 'Pathogenic,_association,_protective',\n",
    "                                         'Likely_pathogenic,_association','Likely_pathogenic,_other','Likely_pathogenic,_risk_factor'])]\n",
    "df.head()"
   ]
  },
  {
   "cell_type": "code",
   "execution_count": 25,
   "metadata": {},
   "outputs": [
    {
     "data": {
      "text/plain": [
       "CLNSIG\n",
       "Pathogenic                             12313\n",
       "Pathogenic/Likely_pathogenic             854\n",
       "Pathogenic,_risk_factor                   11\n",
       "Pathogenic/Likely_pathogenic,_other        8\n",
       "Likely_pathogenic,_risk_factor             5\n",
       "Pathogenic,_other                          2\n",
       "Pathogenic,_Affects                        2\n",
       "Pathogenic,_association,_protective        1\n",
       "Likely_pathogenic,_association             1\n",
       "Pathogenic,_protective                     1\n",
       "Likely_pathogenic,_other                   1\n",
       "Name: count, dtype: int64"
      ]
     },
     "execution_count": 25,
     "metadata": {},
     "output_type": "execute_result"
    }
   ],
   "source": [
    "df.CLNSIG.value_counts()"
   ]
  },
  {
   "cell_type": "code",
   "execution_count": 26,
   "metadata": {},
   "outputs": [
    {
     "data": {
      "text/plain": [
       "CHROM          0\n",
       "POS            0\n",
       "ID             0\n",
       "REF            0\n",
       "ALT            0\n",
       "GENEINFO    2231\n",
       "CLNSIG         0\n",
       "CLNDN       1908\n",
       "dtype: int64"
      ]
     },
     "execution_count": 26,
     "metadata": {},
     "output_type": "execute_result"
    }
   ],
   "source": [
    "df.isnull().sum()"
   ]
  },
  {
   "cell_type": "code",
   "execution_count": 27,
   "metadata": {},
   "outputs": [
    {
     "data": {
      "text/html": [
       "<div>\n",
       "<style scoped>\n",
       "    .dataframe tbody tr th:only-of-type {\n",
       "        vertical-align: middle;\n",
       "    }\n",
       "\n",
       "    .dataframe tbody tr th {\n",
       "        vertical-align: top;\n",
       "    }\n",
       "\n",
       "    .dataframe thead th {\n",
       "        text-align: right;\n",
       "    }\n",
       "</style>\n",
       "<table border=\"1\" class=\"dataframe\">\n",
       "  <thead>\n",
       "    <tr style=\"text-align: right;\">\n",
       "      <th></th>\n",
       "      <th>CHROM</th>\n",
       "      <th>POS</th>\n",
       "      <th>ID</th>\n",
       "      <th>REF</th>\n",
       "      <th>ALT</th>\n",
       "      <th>GENEINFO</th>\n",
       "      <th>CLNSIG</th>\n",
       "      <th>CLNDN</th>\n",
       "    </tr>\n",
       "  </thead>\n",
       "  <tbody>\n",
       "    <tr>\n",
       "      <th>3</th>\n",
       "      <td>1</td>\n",
       "      <td>1014143</td>\n",
       "      <td>183381</td>\n",
       "      <td>C</td>\n",
       "      <td>T</td>\n",
       "      <td>ISG15:9636</td>\n",
       "      <td>Pathogenic</td>\n",
       "      <td>Immunodeficiency_38_with_basal_ganglia_calcification</td>\n",
       "    </tr>\n",
       "    <tr>\n",
       "      <th>9</th>\n",
       "      <td>1</td>\n",
       "      <td>1014316</td>\n",
       "      <td>161455</td>\n",
       "      <td>C</td>\n",
       "      <td>CG</td>\n",
       "      <td>ISG15:9636</td>\n",
       "      <td>Pathogenic</td>\n",
       "      <td>Immunodeficiency_38_with_basal_ganglia_calcification</td>\n",
       "    </tr>\n",
       "    <tr>\n",
       "      <th>10</th>\n",
       "      <td>1</td>\n",
       "      <td>1014359</td>\n",
       "      <td>161454</td>\n",
       "      <td>G</td>\n",
       "      <td>T</td>\n",
       "      <td>ISG15:9636</td>\n",
       "      <td>Pathogenic</td>\n",
       "      <td>Immunodeficiency_38_with_basal_ganglia_calcification</td>\n",
       "    </tr>\n",
       "    <tr>\n",
       "      <th>25</th>\n",
       "      <td>1</td>\n",
       "      <td>1022225</td>\n",
       "      <td>243036</td>\n",
       "      <td>G</td>\n",
       "      <td>A</td>\n",
       "      <td>AGRN:375790</td>\n",
       "      <td>Pathogenic</td>\n",
       "      <td>Congenital_myasthenic_syndrome</td>\n",
       "    </tr>\n",
       "    <tr>\n",
       "      <th>27</th>\n",
       "      <td>1</td>\n",
       "      <td>1022313</td>\n",
       "      <td>243037</td>\n",
       "      <td>A</td>\n",
       "      <td>T</td>\n",
       "      <td>AGRN:375790</td>\n",
       "      <td>Pathogenic</td>\n",
       "      <td>Congenital_myasthenic_syndrome</td>\n",
       "    </tr>\n",
       "    <tr>\n",
       "      <th>47</th>\n",
       "      <td>1</td>\n",
       "      <td>1041354</td>\n",
       "      <td>574478</td>\n",
       "      <td>CGCCCGCCAGGAGAATGTCTTCAAGAAGTTCGACG</td>\n",
       "      <td>C</td>\n",
       "      <td>AGRN:375790</td>\n",
       "      <td>Pathogenic</td>\n",
       "      <td>Myasthenic_syndrome,_congenital,_8</td>\n",
       "    </tr>\n",
       "    <tr>\n",
       "      <th>50</th>\n",
       "      <td>1</td>\n",
       "      <td>1O41582</td>\n",
       "      <td>126556</td>\n",
       "      <td>C</td>\n",
       "      <td>T</td>\n",
       "      <td>AGRN:375790</td>\n",
       "      <td>Pathogenic</td>\n",
       "      <td>Congenital_myasthenic_syndrome|Myasthenic_syndrome,_congenital,_8</td>\n",
       "    </tr>\n",
       "    <tr>\n",
       "      <th>64</th>\n",
       "      <td>1</td>\n",
       "      <td>1042136</td>\n",
       "      <td>243038</td>\n",
       "      <td>T</td>\n",
       "      <td>TC</td>\n",
       "      <td>AGRN:375790</td>\n",
       "      <td>Pathogenic</td>\n",
       "      <td>Congenital_myasthenic_syndrome</td>\n",
       "    </tr>\n",
       "    <tr>\n",
       "      <th>271</th>\n",
       "      <td>1</td>\n",
       "      <td>1050473</td>\n",
       "      <td>243039</td>\n",
       "      <td>G</td>\n",
       "      <td>A</td>\n",
       "      <td>AGRN:375790</td>\n",
       "      <td>Pathogenic</td>\n",
       "      <td>Congenital_myasthenic_syndrome</td>\n",
       "    </tr>\n",
       "    <tr>\n",
       "      <th>281</th>\n",
       "      <td>1</td>\n",
       "      <td>1050575</td>\n",
       "      <td>18241</td>\n",
       "      <td>G</td>\n",
       "      <td>C</td>\n",
       "      <td>AGRN:375790</td>\n",
       "      <td>Pathogenic</td>\n",
       "      <td>Congenital_myasthenic_syndrome|Myasthenic_syndrome,_congenital,_8</td>\n",
       "    </tr>\n",
       "  </tbody>\n",
       "</table>\n",
       "</div>"
      ],
      "text/plain": [
       "    CHROM      POS      ID                                  REF ALT  \\\n",
       "3       1  1014143  183381                                    C   T   \n",
       "9       1  1014316  161455                                    C  CG   \n",
       "10      1  1014359  161454                                    G   T   \n",
       "25      1  1022225  243036                                    G   A   \n",
       "27      1  1022313  243037                                    A   T   \n",
       "47      1  1041354  574478  CGCCCGCCAGGAGAATGTCTTCAAGAAGTTCGACG   C   \n",
       "50      1  1O41582  126556                                    C   T   \n",
       "64      1  1042136  243038                                    T  TC   \n",
       "271     1  1050473  243039                                    G   A   \n",
       "281     1  1050575   18241                                    G   C   \n",
       "\n",
       "        GENEINFO      CLNSIG  \\\n",
       "3     ISG15:9636  Pathogenic   \n",
       "9     ISG15:9636  Pathogenic   \n",
       "10    ISG15:9636  Pathogenic   \n",
       "25   AGRN:375790  Pathogenic   \n",
       "27   AGRN:375790  Pathogenic   \n",
       "47   AGRN:375790  Pathogenic   \n",
       "50   AGRN:375790  Pathogenic   \n",
       "64   AGRN:375790  Pathogenic   \n",
       "271  AGRN:375790  Pathogenic   \n",
       "281  AGRN:375790  Pathogenic   \n",
       "\n",
       "                                                                 CLNDN  \n",
       "3                 Immunodeficiency_38_with_basal_ganglia_calcification  \n",
       "9                 Immunodeficiency_38_with_basal_ganglia_calcification  \n",
       "10                Immunodeficiency_38_with_basal_ganglia_calcification  \n",
       "25                                      Congenital_myasthenic_syndrome  \n",
       "27                                      Congenital_myasthenic_syndrome  \n",
       "47                                  Myasthenic_syndrome,_congenital,_8  \n",
       "50   Congenital_myasthenic_syndrome|Myasthenic_syndrome,_congenital,_8  \n",
       "64                                      Congenital_myasthenic_syndrome  \n",
       "271                                     Congenital_myasthenic_syndrome  \n",
       "281  Congenital_myasthenic_syndrome|Myasthenic_syndrome,_congenital,_8  "
      ]
     },
     "execution_count": 27,
     "metadata": {},
     "output_type": "execute_result"
    }
   ],
   "source": [
    "for_grading = df.copy()  # Create a copy of the original DataFrame so I avoid modifying the original\n",
    "\n",
    "# Here I fill the missing values with 'Not_Given', but for my final anlaysis I want to drop these values so I am just making a copy of this to show I did it\n",
    "for_grading['GENEINFO'].fillna('Not_Given', inplace=True)\n",
    "for_grading['CLNDN'].fillna('Not_Given', inplace=True)\n",
    "\n",
    "for_grading.head(10)\n"
   ]
  },
  {
   "cell_type": "code",
   "execution_count": 28,
   "metadata": {},
   "outputs": [
    {
     "data": {
      "text/plain": [
       "13199"
      ]
     },
     "execution_count": 28,
     "metadata": {},
     "output_type": "execute_result"
    }
   ],
   "source": [
    "len(df)"
   ]
  },
  {
   "cell_type": "code",
   "execution_count": 29,
   "metadata": {},
   "outputs": [],
   "source": [
    "df = df.dropna()"
   ]
  },
  {
   "cell_type": "code",
   "execution_count": 30,
   "metadata": {},
   "outputs": [
    {
     "data": {
      "text/plain": [
       "9095"
      ]
     },
     "execution_count": 30,
     "metadata": {},
     "output_type": "execute_result"
    }
   ],
   "source": [
    "len(df)"
   ]
  },
  {
   "cell_type": "code",
   "execution_count": 31,
   "metadata": {},
   "outputs": [
    {
     "data": {
      "text/plain": [
       "CHROM       0\n",
       "POS         0\n",
       "ID          0\n",
       "REF         0\n",
       "ALT         0\n",
       "GENEINFO    0\n",
       "CLNSIG      0\n",
       "CLNDN       0\n",
       "dtype: int64"
      ]
     },
     "execution_count": 31,
     "metadata": {},
     "output_type": "execute_result"
    }
   ],
   "source": [
    "df.isnull().sum()"
   ]
  },
  {
   "cell_type": "code",
   "execution_count": 32,
   "metadata": {},
   "outputs": [
    {
     "data": {
      "text/html": [
       "<div>\n",
       "<style scoped>\n",
       "    .dataframe tbody tr th:only-of-type {\n",
       "        vertical-align: middle;\n",
       "    }\n",
       "\n",
       "    .dataframe tbody tr th {\n",
       "        vertical-align: top;\n",
       "    }\n",
       "\n",
       "    .dataframe thead th {\n",
       "        text-align: right;\n",
       "    }\n",
       "</style>\n",
       "<table border=\"1\" class=\"dataframe\">\n",
       "  <thead>\n",
       "    <tr style=\"text-align: right;\">\n",
       "      <th></th>\n",
       "      <th>CHROM</th>\n",
       "      <th>POS</th>\n",
       "      <th>ID</th>\n",
       "      <th>REF</th>\n",
       "      <th>ALT</th>\n",
       "      <th>GENEINFO</th>\n",
       "      <th>CLNSIG</th>\n",
       "      <th>CLNDN</th>\n",
       "    </tr>\n",
       "  </thead>\n",
       "  <tbody>\n",
       "    <tr>\n",
       "      <th>78132</th>\n",
       "      <td>2</td>\n",
       "      <td>224503834</td>\n",
       "      <td>100515</td>\n",
       "      <td>A</td>\n",
       "      <td>C</td>\n",
       "      <td>CUL3:8452</td>\n",
       "      <td>Pathogenic</td>\n",
       "      <td>Pseudohypoaldosteronism,_type_2|Pseudohypoaldosteronism_type_2E</td>\n",
       "    </tr>\n",
       "    <tr>\n",
       "      <th>78129</th>\n",
       "      <td>2</td>\n",
       "      <td>224503823</td>\n",
       "      <td>100516</td>\n",
       "      <td>C</td>\n",
       "      <td>T</td>\n",
       "      <td>CUL3:8452</td>\n",
       "      <td>Pathogenic</td>\n",
       "      <td>Pseudohypoaldosteronism,_type_2|Pseudohypoaldosteronism_type_2E</td>\n",
       "    </tr>\n",
       "    <tr>\n",
       "      <th>78133</th>\n",
       "      <td>2</td>\n",
       "      <td>224503848</td>\n",
       "      <td>100517</td>\n",
       "      <td>T</td>\n",
       "      <td>C</td>\n",
       "      <td>CUL3:8452</td>\n",
       "      <td>Pathogenic</td>\n",
       "      <td>Pseudohypoaldosteronism,_type_2|Pseudohypoaldosteronism_type_2E</td>\n",
       "    </tr>\n",
       "    <tr>\n",
       "      <th>78134</th>\n",
       "      <td>2</td>\n",
       "      <td>224503850</td>\n",
       "      <td>100518</td>\n",
       "      <td>A</td>\n",
       "      <td>C</td>\n",
       "      <td>CUL3:8452</td>\n",
       "      <td>Pathogenic</td>\n",
       "      <td>Pseudohypoaldosteronism,_type_2|Pseudohypoaldosteronism_type_2E</td>\n",
       "    </tr>\n",
       "    <tr>\n",
       "      <th>78130</th>\n",
       "      <td>2</td>\n",
       "      <td>224503825</td>\n",
       "      <td>100519</td>\n",
       "      <td>G</td>\n",
       "      <td>A</td>\n",
       "      <td>CUL3:8452</td>\n",
       "      <td>Pathogenic</td>\n",
       "      <td>Pseudohypoaldosteronism,_type_2|Pseudohypoaldosteronism_type_2E</td>\n",
       "    </tr>\n",
       "    <tr>\n",
       "      <th>...</th>\n",
       "      <td>...</td>\n",
       "      <td>...</td>\n",
       "      <td>...</td>\n",
       "      <td>...</td>\n",
       "      <td>...</td>\n",
       "      <td>...</td>\n",
       "      <td>...</td>\n",
       "      <td>...</td>\n",
       "    </tr>\n",
       "    <tr>\n",
       "      <th>12639</th>\n",
       "      <td>1</td>\n",
       "      <td>94000870</td>\n",
       "      <td>99460</td>\n",
       "      <td>G</td>\n",
       "      <td>A</td>\n",
       "      <td>ABCA4:24</td>\n",
       "      <td>Pathogenic</td>\n",
       "      <td>Retinal_dystrophy|Visual_loss|Macular_degeneration|Blindness|Stargardt_disease_1|not_provided</td>\n",
       "    </tr>\n",
       "    <tr>\n",
       "      <th>12623</th>\n",
       "      <td>1</td>\n",
       "      <td>93997981</td>\n",
       "      <td>99473</td>\n",
       "      <td>G</td>\n",
       "      <td>T</td>\n",
       "      <td>ABCA4:24</td>\n",
       "      <td>Pathogenic</td>\n",
       "      <td>Stargardt_disease_1|not_provided</td>\n",
       "    </tr>\n",
       "    <tr>\n",
       "      <th>12621</th>\n",
       "      <td>1</td>\n",
       "      <td>93997932</td>\n",
       "      <td>99476</td>\n",
       "      <td>G</td>\n",
       "      <td>A</td>\n",
       "      <td>ABCA4:24</td>\n",
       "      <td>Pathogenic</td>\n",
       "      <td>Cone/cone-rod_dystrophy|Stargardt_disease_1|not_provided</td>\n",
       "    </tr>\n",
       "    <tr>\n",
       "      <th>13393</th>\n",
       "      <td>1</td>\n",
       "      <td>94098794</td>\n",
       "      <td>99505</td>\n",
       "      <td>C</td>\n",
       "      <td>A</td>\n",
       "      <td>ABCA4:24</td>\n",
       "      <td>Pathogenic</td>\n",
       "      <td>Stargardt_disease_1|Retinitis_pigmentosa_19|not_provided</td>\n",
       "    </tr>\n",
       "    <tr>\n",
       "      <th>23548</th>\n",
       "      <td>1</td>\n",
       "      <td>197429460</td>\n",
       "      <td>99888</td>\n",
       "      <td>T</td>\n",
       "      <td>A</td>\n",
       "      <td>CRB1:23418</td>\n",
       "      <td>Pathogenic</td>\n",
       "      <td>Macular_dystrophy|Retinitis_pigmentosa_12|Leber_congenital_amaurosis_8|not_provided</td>\n",
       "    </tr>\n",
       "  </tbody>\n",
       "</table>\n",
       "<p>9095 rows × 8 columns</p>\n",
       "</div>"
      ],
      "text/plain": [
       "      CHROM        POS      ID REF ALT    GENEINFO      CLNSIG  \\\n",
       "78132     2  224503834  100515   A   C   CUL3:8452  Pathogenic   \n",
       "78129     2  224503823  100516   C   T   CUL3:8452  Pathogenic   \n",
       "78133     2  224503848  100517   T   C   CUL3:8452  Pathogenic   \n",
       "78134     2  224503850  100518   A   C   CUL3:8452  Pathogenic   \n",
       "78130     2  224503825  100519   G   A   CUL3:8452  Pathogenic   \n",
       "...     ...        ...     ...  ..  ..         ...         ...   \n",
       "12639     1   94000870   99460   G   A    ABCA4:24  Pathogenic   \n",
       "12623     1   93997981   99473   G   T    ABCA4:24  Pathogenic   \n",
       "12621     1   93997932   99476   G   A    ABCA4:24  Pathogenic   \n",
       "13393     1   94098794   99505   C   A    ABCA4:24  Pathogenic   \n",
       "23548     1  197429460   99888   T   A  CRB1:23418  Pathogenic   \n",
       "\n",
       "                                                                                               CLNDN  \n",
       "78132                                Pseudohypoaldosteronism,_type_2|Pseudohypoaldosteronism_type_2E  \n",
       "78129                                Pseudohypoaldosteronism,_type_2|Pseudohypoaldosteronism_type_2E  \n",
       "78133                                Pseudohypoaldosteronism,_type_2|Pseudohypoaldosteronism_type_2E  \n",
       "78134                                Pseudohypoaldosteronism,_type_2|Pseudohypoaldosteronism_type_2E  \n",
       "78130                                Pseudohypoaldosteronism,_type_2|Pseudohypoaldosteronism_type_2E  \n",
       "...                                                                                              ...  \n",
       "12639  Retinal_dystrophy|Visual_loss|Macular_degeneration|Blindness|Stargardt_disease_1|not_provided  \n",
       "12623                                                               Stargardt_disease_1|not_provided  \n",
       "12621                                       Cone/cone-rod_dystrophy|Stargardt_disease_1|not_provided  \n",
       "13393                                       Stargardt_disease_1|Retinitis_pigmentosa_19|not_provided  \n",
       "23548            Macular_dystrophy|Retinitis_pigmentosa_12|Leber_congenital_amaurosis_8|not_provided  \n",
       "\n",
       "[9095 rows x 8 columns]"
      ]
     },
     "execution_count": 32,
     "metadata": {},
     "output_type": "execute_result"
    }
   ],
   "source": [
    "df.sort_values(by=['ID'])"
   ]
  },
  {
   "cell_type": "markdown",
   "metadata": {},
   "source": [
    "Checking for Duplicates"
   ]
  },
  {
   "cell_type": "code",
   "execution_count": 33,
   "metadata": {},
   "outputs": [
    {
     "data": {
      "text/html": [
       "<div>\n",
       "<style scoped>\n",
       "    .dataframe tbody tr th:only-of-type {\n",
       "        vertical-align: middle;\n",
       "    }\n",
       "\n",
       "    .dataframe tbody tr th {\n",
       "        vertical-align: top;\n",
       "    }\n",
       "\n",
       "    .dataframe thead th {\n",
       "        text-align: right;\n",
       "    }\n",
       "</style>\n",
       "<table border=\"1\" class=\"dataframe\">\n",
       "  <thead>\n",
       "    <tr style=\"text-align: right;\">\n",
       "      <th></th>\n",
       "      <th>CHROM</th>\n",
       "      <th>POS</th>\n",
       "      <th>ID</th>\n",
       "      <th>REF</th>\n",
       "      <th>ALT</th>\n",
       "      <th>GENEINFO</th>\n",
       "      <th>CLNSIG</th>\n",
       "      <th>CLNDN</th>\n",
       "    </tr>\n",
       "  </thead>\n",
       "  <tbody>\n",
       "  </tbody>\n",
       "</table>\n",
       "</div>"
      ],
      "text/plain": [
       "Empty DataFrame\n",
       "Columns: [CHROM, POS, ID, REF, ALT, GENEINFO, CLNSIG, CLNDN]\n",
       "Index: []"
      ]
     },
     "execution_count": 33,
     "metadata": {},
     "output_type": "execute_result"
    }
   ],
   "source": [
    "duplicates=df.duplicated(subset=['ID'], keep=False)\n",
    "df[duplicates]"
   ]
  },
  {
   "cell_type": "code",
   "execution_count": 34,
   "metadata": {},
   "outputs": [
    {
     "data": {
      "text/html": [
       "<div>\n",
       "<style scoped>\n",
       "    .dataframe tbody tr th:only-of-type {\n",
       "        vertical-align: middle;\n",
       "    }\n",
       "\n",
       "    .dataframe tbody tr th {\n",
       "        vertical-align: top;\n",
       "    }\n",
       "\n",
       "    .dataframe thead th {\n",
       "        text-align: right;\n",
       "    }\n",
       "</style>\n",
       "<table border=\"1\" class=\"dataframe\">\n",
       "  <thead>\n",
       "    <tr style=\"text-align: right;\">\n",
       "      <th></th>\n",
       "      <th>CHROM</th>\n",
       "      <th>POS</th>\n",
       "      <th>ID</th>\n",
       "      <th>REF</th>\n",
       "      <th>ALT</th>\n",
       "      <th>GENEINFO</th>\n",
       "      <th>CLNSIG</th>\n",
       "      <th>CLNDN</th>\n",
       "    </tr>\n",
       "  </thead>\n",
       "  <tbody>\n",
       "    <tr>\n",
       "      <th>3</th>\n",
       "      <td>1</td>\n",
       "      <td>1014143</td>\n",
       "      <td>183381</td>\n",
       "      <td>C</td>\n",
       "      <td>T</td>\n",
       "      <td>ISG15:9636</td>\n",
       "      <td>Pathogenic</td>\n",
       "      <td>Immunodeficiency_38_with_basal_ganglia_calcification</td>\n",
       "    </tr>\n",
       "    <tr>\n",
       "      <th>9</th>\n",
       "      <td>1</td>\n",
       "      <td>1014316</td>\n",
       "      <td>161455</td>\n",
       "      <td>C</td>\n",
       "      <td>CG</td>\n",
       "      <td>ISG15:9636</td>\n",
       "      <td>Pathogenic</td>\n",
       "      <td>Immunodeficiency_38_with_basal_ganglia_calcification</td>\n",
       "    </tr>\n",
       "    <tr>\n",
       "      <th>10</th>\n",
       "      <td>1</td>\n",
       "      <td>1014359</td>\n",
       "      <td>161454</td>\n",
       "      <td>G</td>\n",
       "      <td>T</td>\n",
       "      <td>ISG15:9636</td>\n",
       "      <td>Pathogenic</td>\n",
       "      <td>Immunodeficiency_38_with_basal_ganglia_calcification</td>\n",
       "    </tr>\n",
       "    <tr>\n",
       "      <th>25</th>\n",
       "      <td>1</td>\n",
       "      <td>1022225</td>\n",
       "      <td>243036</td>\n",
       "      <td>G</td>\n",
       "      <td>A</td>\n",
       "      <td>AGRN:375790</td>\n",
       "      <td>Pathogenic</td>\n",
       "      <td>Congenital_myasthenic_syndrome</td>\n",
       "    </tr>\n",
       "    <tr>\n",
       "      <th>27</th>\n",
       "      <td>1</td>\n",
       "      <td>1022313</td>\n",
       "      <td>243037</td>\n",
       "      <td>A</td>\n",
       "      <td>T</td>\n",
       "      <td>AGRN:375790</td>\n",
       "      <td>Pathogenic</td>\n",
       "      <td>Congenital_myasthenic_syndrome</td>\n",
       "    </tr>\n",
       "    <tr>\n",
       "      <th>...</th>\n",
       "      <td>...</td>\n",
       "      <td>...</td>\n",
       "      <td>...</td>\n",
       "      <td>...</td>\n",
       "      <td>...</td>\n",
       "      <td>...</td>\n",
       "      <td>...</td>\n",
       "      <td>...</td>\n",
       "    </tr>\n",
       "    <tr>\n",
       "      <th>102112</th>\n",
       "      <td>3</td>\n",
       "      <td>172448408</td>\n",
       "      <td>7633</td>\n",
       "      <td>C</td>\n",
       "      <td>T</td>\n",
       "      <td>GHSR:2693</td>\n",
       "      <td>Pathogenic</td>\n",
       "      <td>Short_stature,_idiopathic,_autosomal</td>\n",
       "    </tr>\n",
       "    <tr>\n",
       "      <th>102179</th>\n",
       "      <td>3</td>\n",
       "      <td>177046179</td>\n",
       "      <td>559628</td>\n",
       "      <td>A</td>\n",
       "      <td>AT</td>\n",
       "      <td>TBL1XR1:79718</td>\n",
       "      <td>Pathogenic</td>\n",
       "      <td>Fitzsimmons-Guilbert_syndrome</td>\n",
       "    </tr>\n",
       "    <tr>\n",
       "      <th>102224</th>\n",
       "      <td>3</td>\n",
       "      <td>179199073</td>\n",
       "      <td>585023</td>\n",
       "      <td>T</td>\n",
       "      <td>C</td>\n",
       "      <td>PIK3CA:5290</td>\n",
       "      <td>Pathogenic</td>\n",
       "      <td>CAPILLARY_MALFORMATION_OF_THE_LOWER_LIP,_LYMPHATIC_MALFORMATION_OF_FACE_AND_NECK,_ASYMMETRY_OF_FACE_AND_LIMBS,_AND_PARTIAL/GENERALIZED_OVERGROWTH,_SOMATIC</td>\n",
       "    </tr>\n",
       "    <tr>\n",
       "      <th>102274</th>\n",
       "      <td>3</td>\n",
       "      <td>179203760</td>\n",
       "      <td>376498</td>\n",
       "      <td>G</td>\n",
       "      <td>A</td>\n",
       "      <td>PIK3CA:5290</td>\n",
       "      <td>Pathogenic/Likely_pathogenic</td>\n",
       "      <td>Non-Hodgkin_lymphoma|Neoplasm_of_the_breast|Neoplasm_of_the_large_intestine|Squamous_cell_carcinoma_of_the_head_and_neck|Malignant_melanoma_of_skin|Uterine_cervical_neoplasms|Glioblastoma|Cowden_syndrome|Malignant_neoplasm_of_body_of_uterus|not_provided</td>\n",
       "    </tr>\n",
       "    <tr>\n",
       "      <th>102308</th>\n",
       "      <td>3</td>\n",
       "      <td>179210289</td>\n",
       "      <td>39706</td>\n",
       "      <td>TAGA</td>\n",
       "      <td>T</td>\n",
       "      <td>PIK3CA:5290</td>\n",
       "      <td>Pathogenic</td>\n",
       "      <td>Megalencephaly_cutis_marmorata_telangiectatica_congenita|not_provided</td>\n",
       "    </tr>\n",
       "  </tbody>\n",
       "</table>\n",
       "<p>9095 rows × 8 columns</p>\n",
       "</div>"
      ],
      "text/plain": [
       "       CHROM        POS      ID   REF ALT       GENEINFO  \\\n",
       "3          1    1014143  183381     C   T     ISG15:9636   \n",
       "9          1    1014316  161455     C  CG     ISG15:9636   \n",
       "10         1    1014359  161454     G   T     ISG15:9636   \n",
       "25         1    1022225  243036     G   A    AGRN:375790   \n",
       "27         1    1022313  243037     A   T    AGRN:375790   \n",
       "...      ...        ...     ...   ...  ..            ...   \n",
       "102112     3  172448408    7633     C   T      GHSR:2693   \n",
       "102179     3  177046179  559628     A  AT  TBL1XR1:79718   \n",
       "102224     3  179199073  585023     T   C    PIK3CA:5290   \n",
       "102274     3  179203760  376498     G   A    PIK3CA:5290   \n",
       "102308     3  179210289   39706  TAGA   T    PIK3CA:5290   \n",
       "\n",
       "                              CLNSIG  \\\n",
       "3                         Pathogenic   \n",
       "9                         Pathogenic   \n",
       "10                        Pathogenic   \n",
       "25                        Pathogenic   \n",
       "27                        Pathogenic   \n",
       "...                              ...   \n",
       "102112                    Pathogenic   \n",
       "102179                    Pathogenic   \n",
       "102224                    Pathogenic   \n",
       "102274  Pathogenic/Likely_pathogenic   \n",
       "102308                    Pathogenic   \n",
       "\n",
       "                                                                                                                                                                                                                                                                CLNDN  \n",
       "3                                                                                                                                                                                                                Immunodeficiency_38_with_basal_ganglia_calcification  \n",
       "9                                                                                                                                                                                                                Immunodeficiency_38_with_basal_ganglia_calcification  \n",
       "10                                                                                                                                                                                                               Immunodeficiency_38_with_basal_ganglia_calcification  \n",
       "25                                                                                                                                                                                                                                     Congenital_myasthenic_syndrome  \n",
       "27                                                                                                                                                                                                                                     Congenital_myasthenic_syndrome  \n",
       "...                                                                                                                                                                                                                                                               ...  \n",
       "102112                                                                                                                                                                                                                           Short_stature,_idiopathic,_autosomal  \n",
       "102179                                                                                                                                                                                                                                  Fitzsimmons-Guilbert_syndrome  \n",
       "102224                                                                                                     CAPILLARY_MALFORMATION_OF_THE_LOWER_LIP,_LYMPHATIC_MALFORMATION_OF_FACE_AND_NECK,_ASYMMETRY_OF_FACE_AND_LIMBS,_AND_PARTIAL/GENERALIZED_OVERGROWTH,_SOMATIC  \n",
       "102274  Non-Hodgkin_lymphoma|Neoplasm_of_the_breast|Neoplasm_of_the_large_intestine|Squamous_cell_carcinoma_of_the_head_and_neck|Malignant_melanoma_of_skin|Uterine_cervical_neoplasms|Glioblastoma|Cowden_syndrome|Malignant_neoplasm_of_body_of_uterus|not_provided  \n",
       "102308                                                                                                                                                                                          Megalencephaly_cutis_marmorata_telangiectatica_congenita|not_provided  \n",
       "\n",
       "[9095 rows x 8 columns]"
      ]
     },
     "execution_count": 34,
     "metadata": {},
     "output_type": "execute_result"
    }
   ],
   "source": [
    "df.drop_duplicates(subset=['ID'])"
   ]
  },
  {
   "cell_type": "code",
   "execution_count": 35,
   "metadata": {},
   "outputs": [
    {
     "data": {
      "text/plain": [
       "CHROM\n",
       "2    4409\n",
       "1    2650\n",
       "3    2036\n",
       "Name: count, dtype: int64"
      ]
     },
     "execution_count": 35,
     "metadata": {},
     "output_type": "execute_result"
    }
   ],
   "source": [
    "df.CHROM.value_counts()"
   ]
  },
  {
   "cell_type": "markdown",
   "metadata": {},
   "source": [
    "# Chromosome 1 "
   ]
  },
  {
   "cell_type": "code",
   "execution_count": 36,
   "metadata": {},
   "outputs": [
    {
     "name": "stdout",
     "output_type": "stream",
     "text": [
      "num of mutations associated with chromosome 1:  2650\n",
      "num of unique genes associated with chrom 1 mutations:  342\n"
     ]
    }
   ],
   "source": [
    "chrom_1 = df[df.CHROM=='1']\n",
    "print(\"num of mutations associated with chromosome 1: \", len(chrom_1))\n",
    "#number of unique genes with mutations asscoaited with chromosome 1\n",
    "print(\"num of unique genes associated with chrom 1 mutations: \", len(chrom_1.GENEINFO.unique()))\n"
   ]
  },
  {
   "cell_type": "code",
   "execution_count": 37,
   "metadata": {},
   "outputs": [
    {
     "data": {
      "text/plain": [
       "GENEINFO\n",
       "USH2A:7399                135\n",
       "ASPM:259266               130\n",
       "LMNA:4000                  94\n",
       "ABCA4:24                   93\n",
       "FH:2271                    90\n",
       "                         ... \n",
       "ERMAP:114625                1\n",
       "PTPRF:5792                  1\n",
       "MUTYH:4595|TOE1:114034      1\n",
       "TOE1:114034                 1\n",
       "IGSF3:3321                  1\n",
       "Name: count, Length: 342, dtype: int64"
      ]
     },
     "execution_count": 37,
     "metadata": {},
     "output_type": "execute_result"
    }
   ],
   "source": [
    "#display of most common genes associated with chrom 1 mutations\n",
    "chrom_1.GENEINFO.value_counts()"
   ]
  },
  {
   "cell_type": "code",
   "execution_count": 38,
   "metadata": {},
   "outputs": [
    {
     "name": "stdout",
     "output_type": "stream",
     "text": [
      "Diseases Associated with Chromosome 1: CLNDN\n",
      "Primary_autosomal_recessive_microcephaly_5                                                                 102\n",
      "Usher_syndrome,_type_2A|Retinitis_pigmentosa_39                                                             48\n",
      "Inborn_genetic_diseases                                                                                     45\n",
      "Hereditary_cancer-predisposing_syndrome                                                                     36\n",
      "Chédiak-Higashi_syndrome                                                                                    34\n",
      "                                                                                                          ... \n",
      "Stargardt_disease_1|Retinitis_pigmentosa_19|not_provided                                                     1\n",
      "Visual_impairment|Central_scotoma|Macular_degeneration|Retinal_atrophy|Stargardt_disease_1|not_provided      1\n",
      "Bile_acid_synthesis_defect,_congenital,_5                                                                    1\n",
      "Myasthenic_syndrome,_congenital,_15                                                                          1\n",
      "Familial_cold_urticaria                                                                                      1\n",
      "Name: count, Length: 874, dtype: int64\n"
     ]
    }
   ],
   "source": [
    "#to determine the common diseases associated with mutations in chromosome 1\n",
    "print('Diseases Associated with Chromosome 1:',chrom_1.CLNDN.value_counts())"
   ]
  },
  {
   "cell_type": "markdown",
   "metadata": {},
   "source": [
    "- **Key Takeaways Chrom 1:**\n",
    "- num of mutations associated with chromosome 1:  2650\n",
    "-  \n",
    "num of unique genes associated with chrom 1 mutations:  34\n",
    "-  The most common genes associated with chromosome 1 mutations from highest are:\n",
    "    - USH2A:7399                \n",
    "    - ASPM:259266               \n",
    "    - LMNA:4000                  \n",
    "    - ABCA4:24                   \n",
    "    - FH:2271                                      \n",
    "-  The most common diseases associated with chrom 1 mutations from highest are:\n",
    "    -  (Primary_autosomal_recessive_microcephaly_5)\n",
    "    -  (Usher_syndrome,_type_2A|Retinitis_pigmentosa_39)\n",
    "    -  (Hereditary_cancer-predisposing_syndrome)\n",
    "    -  (Chédiak-Higashi_syndrome)   34\n",
    "\n",
    "2\r\n",
    "\n"
   ]
  },
  {
   "cell_type": "markdown",
   "metadata": {},
   "source": [
    "## Chromosome 2"
   ]
  },
  {
   "cell_type": "code",
   "execution_count": 39,
   "metadata": {},
   "outputs": [
    {
     "name": "stdout",
     "output_type": "stream",
     "text": [
      "num of mutations associated with chromosome 2:  4409\n",
      "\n",
      " Diseases Associated with Chromosome 2: CLNDN\n",
      "Lynch_syndrome                                                                                                                                                                                     357\n",
      "Ehlers-Danlos_syndrome,_type_4                                                                                                                                                                     314\n",
      "Primary_pulmonary_hypertension                                                                                                                                                                     297\n",
      "Hereditary_cancer-predisposing_syndrome                                                                                                                                                            252\n",
      "Severe_myoclonic_epilepsy_in_infancy                                                                                                                                                               169\n",
      "                                                                                                                                                                                                  ... \n",
      "Inborn_genetic_diseases|Severe_myoclonic_epilepsy_in_infancy|not_provided                                                                                                                            1\n",
      "Focal_epilepsy|not_provided                                                                                                                                                                          1\n",
      "Delayed_speech_and_language_development|Seizures|Severe_myoclonic_epilepsy_in_infancy|Early_infantile_epileptic_encephalopathy                                                                       1\n",
      "Endometrial_carcinoma|Hereditary_nonpolyposis_colon_cancer|Hereditary_cancer-predisposing_syndrome|Turcot_syndrome|Lynch_syndrome|Hereditary_nonpolyposis_colorectal_cancer_type_5|not_provided      1\n",
      "D-2-hydroxyglutaric_aciduria                                                                                                                                                                         1\n",
      "Name: count, Length: 696, dtype: int64\n",
      "num of unique genes associated with chrom 2 mutations:  256\n",
      "\n",
      " GENEINFO\n",
      "MSH2:4436                            608\n",
      "MSH6:2956                            516\n",
      "COL3A1:1281                          338\n",
      "BMPR2:659                            324\n",
      "SCN1A:6323|LOC102724058:102724058    171\n",
      "                                    ... \n",
      "GYPC:2995                              1\n",
      "VRK2:7444|FANCL:55120                  1\n",
      "CCDC88A:55704                          1\n",
      "ADRA2B:151                             1\n",
      "NRXN1:9378                             1\n",
      "Name: count, Length: 256, dtype: int64\n"
     ]
    }
   ],
   "source": [
    "chrom_2 = df[df.CHROM=='2']\n",
    "print(\"num of mutations associated with chromosome 2: \", len(chrom_2))\n",
    "print('\\n','Diseases Associated with Chromosome 2:',chrom_2.CLNDN.value_counts())\n",
    "print(\"num of unique genes associated with chrom 2 mutations: \", len(chrom_2.GENEINFO.unique()))\n",
    "print('\\n',chrom_2.GENEINFO.value_counts())\n"
   ]
  },
  {
   "cell_type": "markdown",
   "metadata": {},
   "source": [
    "**Key Takeaways from Chromosome 2**\r\n",
    "- Num of mutations associated with chromosome 2: 4409\r\n",
    "- Num of unique genes associated with chrom 2 mutations: 256\r\n",
    "- The most common genes associated with chromosome 2 mutations from highest are:\r\n",
    "  - MSH2:4436                            \r\n",
    "  - MSH6:2956                            \r\n",
    "  - COL3A1:1281                          \r\n",
    "  - BMPR2:659                            \r\n",
    "  - SCN1A:6323|LOC102724058:102724058\r\n",
    "- The most common diseases associated with chrom 2 mutations from highest are:\r\n",
    "  - Lynch_syndrome\r\n",
    "  - Ehlers-Danlos_syndrome,_type_4\r\n",
    "  - Primary_pulmonary_hypertension\r\n",
    "  - Hereditary_cancer-predisposing_syndrome\r\n",
    "  - Severe_myoclonic_epilesy_in_infancy\r\n",
    "169\r\n",
    "rome)"
   ]
  },
  {
   "cell_type": "markdown",
   "metadata": {},
   "source": [
    "# Chromosome 3"
   ]
  },
  {
   "cell_type": "code",
   "execution_count": 40,
   "metadata": {},
   "outputs": [
    {
     "name": "stdout",
     "output_type": "stream",
     "text": [
      "num of mutations associated with chromosome 3:  2036\n",
      "\n",
      " Diseases Associated with Chromosome 3: CLNDN\n",
      "Lynch_syndrome                                                                                                                                      310\n",
      "Biotinidase_deficiency                                                                                                                              101\n",
      "Hereditary_cancer-predisposing_syndrome                                                                                                              57\n",
      "Von_Hippel-Lindau_syndrome                                                                                                                           46\n",
      "Deficiency_of_ferroxidase                                                                                                                            42\n",
      "                                                                                                                                                   ... \n",
      "Adult_polyglucosan_body_neuropathy                                                                                                                    1\n",
      "Lynch_syndrome|Lynch_syndrome_I                                                                                                                       1\n",
      "Glycogen_storage_disease,_type_IV|Glycogen_storage_disease_IV,_classic_hepatic|Glycogen_storage_disease_IV,_childhood_neuromuscular|not_provided      1\n",
      "Polyglucosan_body_disease,_adult|Glycogen_storage_disease_IV,_congenital_neuromuscular                                                                1\n",
      "Megalencephaly_cutis_marmorata_telangiectatica_congenita|not_provided                                                                                 1\n",
      "Name: count, Length: 478, dtype: int64\n",
      "num of unique genes associated with chrom 3 mutations:  177\n",
      "\n",
      " GENEINFO\n",
      "MLH1:4292                          555\n",
      "BTD:686                            122\n",
      "SCN5A:6331                          64\n",
      "VHL:7428|LOC107303340:107303340     57\n",
      "CASR:846                            55\n",
      "                                  ... \n",
      "COPB2:9276                           1\n",
      "LARS2:23395|LARS2-AS1:100885795      1\n",
      "PBRM1:55193                          1\n",
      "PRICKLE2:166336                      1\n",
      "MYL3:4634                            1\n",
      "Name: count, Length: 177, dtype: int64\n"
     ]
    }
   ],
   "source": [
    "chrom_3 = df[df.CHROM=='3']\n",
    "\n",
    "print(\"num of mutations associated with chromosome 3: \", len(chrom_3))\n",
    "print('\\n', 'Diseases Associated with Chromosome 3:', chrom_3.CLNDN.value_counts())\n",
    "print(\"num of unique genes associated with chrom 3 mutations: \", len(chrom_3.GENEINFO.unique()))\n",
    "print('\\n', chrom_3.GENEINFO.value_counts())\n"
   ]
  },
  {
   "cell_type": "markdown",
   "metadata": {},
   "source": [
    "**Key Takeaways from Chromosome 3**\r\n",
    "\r\n",
    "- Num of mutations associated with chromosome 3: 2036\r\n",
    "- Num of unique genes associated with chrom 3 mutations: 177\r\n",
    "- The most common genes associated with chromosome 3 mutations from highest are:\r\n",
    "  - MLH1:4292\r\n",
    "  - BTD:686\r\n",
    "  - SCN5A:6331\r\n",
    "  - VHL:7428|LOC107303340:107303340\r\n",
    "  - CASR:846\r\n",
    "- The most common diseases associated with chrom 3 mutations from highest are:\r\n",
    "  - Lynch_syndrome\r\n",
    "  - Biotinidase_deficiency\r\n",
    "  - Hereditary_cancer-predisposing_syndrome\r\n",
    "  - Von_Hippel-Lindau_syndrome\r\n",
    "  - Deficiency_of_ferroxidase\r\n",
    " 42\r\n",
    "ancy"
   ]
  },
  {
   "cell_type": "markdown",
   "metadata": {},
   "source": [
    "## Gene MSH2:4436  "
   ]
  },
  {
   "cell_type": "code",
   "execution_count": 41,
   "metadata": {},
   "outputs": [
    {
     "data": {
      "text/plain": [
       "608"
      ]
     },
     "execution_count": 41,
     "metadata": {},
     "output_type": "execute_result"
    }
   ],
   "source": [
    "MSH2=df[df.GENEINFO=='MSH2:4436']\n",
    "len(MSH2)"
   ]
  },
  {
   "cell_type": "code",
   "execution_count": 42,
   "metadata": {},
   "outputs": [
    {
     "data": {
      "text/plain": [
       "POS\n",
       "47463086    5\n",
       "47403373    3\n",
       "47429929    2\n",
       "47412448    2\n",
       "47410370    2\n",
       "           ..\n",
       "47414381    1\n",
       "47414377    1\n",
       "47414370    1\n",
       "47414368    1\n",
       "47482812    1\n",
       "Name: count, Length: 540, dtype: int64"
      ]
     },
     "execution_count": 42,
     "metadata": {},
     "output_type": "execute_result"
    }
   ],
   "source": [
    "MSH2.POS.value_counts()"
   ]
  },
  {
   "cell_type": "code",
   "execution_count": 43,
   "metadata": {},
   "outputs": [
    {
     "data": {
      "text/plain": [
       "CLNDN\n",
       "Lynch_syndrome                                                                                                                                                                   257\n",
       "Hereditary_cancer-predisposing_syndrome                                                                                                                                           99\n",
       "Hereditary_cancer-predisposing_syndrome|Lynch_syndrome                                                                                                                            48\n",
       "Hereditary_nonpolyposis_colon_cancer                                                                                                                                              38\n",
       "Lynch_syndrome|not_provided                                                                                                                                                       20\n",
       "Hereditary_cancer-predisposing_syndrome|Lynch_syndrome|not_provided                                                                                                               17\n",
       "Hereditary_nonpolyposis_colon_cancer|Hereditary_cancer-predisposing_syndrome|Lynch_syndrome|not_provided                                                                          17\n",
       "Hereditary_cancer-predisposing_syndrome|not_provided                                                                                                                              14\n",
       "Hereditary_nonpolyposis_colon_cancer|Lynch_syndrome                                                                                                                               13\n",
       "Hereditary_nonpolyposis_colon_cancer|Hereditary_cancer-predisposing_syndrome|Lynch_syndrome                                                                                       13\n",
       "Hereditary_nonpolyposis_colon_cancer|Hereditary_cancer-predisposing_syndrome|Lynch_syndrome|Lynch_syndrome_I|not_provided                                                          9\n",
       "Hereditary_nonpolyposis_colon_cancer|Hereditary_cancer-predisposing_syndrome|not_provided                                                                                          9\n",
       "Hereditary_nonpolyposis_colon_cancer|Hereditary_cancer-predisposing_syndrome                                                                                                       8\n",
       "Hereditary_nonpolyposis_colon_cancer|not_provided                                                                                                                                  5\n",
       "Lynch_syndrome_I                                                                                                                                                                   5\n",
       "Hereditary_nonpolyposis_colon_cancer|Lynch_syndrome|not_provided                                                                                                                   4\n",
       "Hereditary_nonpolyposis_colon_cancer|Hereditary_cancer-predisposing_syndrome|Lynch_syndrome_I|not_provided                                                                         3\n",
       "Hereditary_cancer-predisposing_syndrome|Lynch_syndrome_I|not_provided                                                                                                              2\n",
       "Hereditary_nonpolyposis_colon_cancer|Hereditary_cancer-predisposing_syndrome|Lynch_syndrome_I                                                                                      2\n",
       "Hereditary_cancer-predisposing_syndrome|Lynch_syndrome|Lynch_syndrome_I|not_provided                                                                                               2\n",
       "Hereditary_nonpolyposis_colon_cancer|Hereditary_cancer-predisposing_syndrome|Lynch_syndrome|not_specified                                                                          2\n",
       "Hereditary_nonpolyposis_colon_cancer|Lynch_syndrome_I                                                                                                                              2\n",
       "Hereditary_nonpolyposis_colon_cancer|Lynch_syndrome|Lynch_syndrome_I                                                                                                               2\n",
       "not_specified                                                                                                                                                                      1\n",
       "Hereditary_cancer-predisposing_syndrome|Lynch_syndrome|Lynch_syndrome_I                                                                                                            1\n",
       "Hereditary_nonpolyposis_colon_cancer|Hereditary_cancer-predisposing_syndrome|Malignant_tumor_of_ascending_colon|Lynch_syndrome|Lynch_syndrome_I|not_provided                       1\n",
       "Glioblastoma                                                                                                                                                                       1\n",
       "Hereditary_cancer-predisposing_syndrome|Muir-Torré_syndrome|Lynch_syndrome|not_provided                                                                                            1\n",
       "Hereditary_cancer-predisposing_syndrome|Turcot_syndrome|Lynch_syndrome                                                                                                             1\n",
       "Colon_cancer|Hereditary_cancer-predisposing_syndrome|Carcinoma_of_colon|Lynch_syndrome|Lynch_syndrome_I|not_provided                                                               1\n",
       "Turcot_syndrome|Lynch_syndrome                                                                                                                                                     1\n",
       "Hereditary_cancer-predisposing_syndrome|Lynch_syndrome|Colorectal_cancer,_hereditary,_nonpolyposis,_type_1|not_provided                                                            1\n",
       "Hereditary_cancer-predisposing_syndrome|Lynch_syndrome_I                                                                                                                           1\n",
       "Hereditary_nonpolyposis_colon_cancer|Hereditary_cancer-predisposing_syndrome|Lynch_syndrome|Lynch_syndrome_I|Colorectal_cancer,_hereditary,_nonpolyposis,_type_1|not_provided      1\n",
       "Lynch_syndrome|Lynch_syndrome_I                                                                                                                                                    1\n",
       "Hereditary_nonpolyposis_colon_cancer|Hereditary_cancer-predisposing_syndrome|Malignant_tumor_of_sigmoid_colon|Lynch_syndrome|not_provided                                          1\n",
       "Hereditary_nonpolyposis_colon_cancer|Hereditary_cancer-predisposing_syndrome|Lynch_syndrome|Lynch_syndrome_I                                                                       1\n",
       "Hereditary_nonpolyposis_colon_cancer|Lynch_syndrome|Lynch_syndrome_I|not_specified|not_provided                                                                                    1\n",
       "Muir-Torré_syndrome|Lynch_syndrome                                                                                                                                                 1\n",
       "Hereditary_nonpolyposis_colon_cancer|Hereditary_cancer-predisposing_syndrome|Carcinoma_of_colon|Lynch_syndrome|Lynch_syndrome_I|not_provided                                       1\n",
       "Name: count, dtype: int64"
      ]
     },
     "execution_count": 43,
     "metadata": {},
     "output_type": "execute_result"
    }
   ],
   "source": [
    "MSH2.CLNDN.value_counts()"
   ]
  },
  {
   "cell_type": "markdown",
   "metadata": {},
   "source": [
    "**Key TakeAways from MSH2:4436 associated with Chromosome 2**\n",
    "- The following positions are associated with the most mutations associated with gene 'MSH2:4436': 47463086, \n",
    "4740337\n",
    "- Lynch_syndrome and Herediatry Cancers are most common diseases associated with gene 'MSH2:4436'3"
   ]
  },
  {
   "cell_type": "markdown",
   "metadata": {},
   "source": [
    "# Assumptions:\n",
    "4)What assumtions are made during this exloratory analysis?"
   ]
  },
  {
   "cell_type": "markdown",
   "metadata": {},
   "source": [
    "\n",
    "\r\n",
    "**1. Filtering Clinical Significance Records:**\r\n",
    "   - I will only extract the columns `GENEINFO`, `CLNSIG`, `CLNDN` from the `info` column because those are the only needed features.\r\n",
    "   - I will filter the DataFrame to include only records with specific clinical significance classifications:\r\n",
    "      - 'Pathogenic/Likely_pathogenic'\r\n",
    "      - 'Pathogenic,_risk_factor'\r\n",
    "      - 'Pathogenic/Likely_pathogenic,_other'\r\n",
    "      - 'Pathogenic,_other'\r\n",
    "      - 'Pathogenic,_Affects'\r\n",
    "      - 'Pathogenic,_protective'\r\n",
    "      - 'Pathogenic,_association,_protective'\r\n",
    "      - 'Likely_pathogenic,_association'\r\n",
    "      - 'Likely_pathogenic,_other'\r\n",
    "      - 'Likely_pathogenic,_risk_factor'\r\n",
    "      \r\n",
    "      This is to focus on pathogenic mutations.\r\n",
    "\r\n",
    "**2. Handling Null Values:**\r\n",
    "   - Records with NaNs or null values will be removed. My boss wants information only about mutations \n",
    "   - I made another df replacing the missing values with Not given but I do not continue my analysis with this dfwith complete data:\r\n",
    "      1. Gene name\r\n",
    "      2. Mutation ID number\r\n",
    "      3. Mutation Position (chromosome & position)\r\n",
    "      4. Mutation value (reference & alternate bases)\r\n",
    "      5. Clinical significance (CLNSIG)\r\n",
    "      6. Disease implicated\r\n",
    "\r\n",
    "**3. Removal of Duplicates:**\r\n",
    "   - Duplicates based on unique mutation IDs will be removed, although none were found.\r\n",
    "\r\n",
    "**4. Unit of Observation:**\r\n",
    "   - Each row represents a single mutation, and there is no overlap with mutations.\r\n",
    "\r\n",
    "**5. Representativeness of Presented Dataset:**\r\n",
    "   - I assume the presented dataset is representative of the original, and that the modifications have not affected the reliability of the data.\r\n",
    "\r\n",
    "**6. Independence of Mutations in Different Chromosomes:**\r\n",
    "   - I assume mutations in one chromosome do not influence those in another.\r\n",
    "e do not influence those in another.\r\n",
    "e do not influence those in another.\r\n",
    " do not influence those in another.\r\n",
    "\r\n",
    "   - Assumes mutations in one chromosome do not influence those in another.\r\n",
    "romosome do not overlap or influen"
   ]
  },
  {
   "cell_type": "markdown",
   "metadata": {},
   "source": [
    "4) Findings / What would you present to your boss?\n",
    "\n",
    "See Deilverables sections "
   ]
  },
  {
   "cell_type": "markdown",
   "metadata": {},
   "source": [
    "# Deliverables"
   ]
  },
  {
   "cell_type": "code",
   "execution_count": null,
   "metadata": {},
   "outputs": [],
   "source": [
    "#the following are the first 100 mutations organized by ID in the data set\n",
    "df.sort_values(by=['ID']).head(100)"
   ]
  },
  {
   "cell_type": "code",
   "execution_count": null,
   "metadata": {},
   "outputs": [],
   "source": [
    "#below is the frequency of mutations associated with each chromosome \n",
    "plt.hist(df.CHROM)\n",
    "plt.xlabel('Chromosome Number')\n",
    "plt.ylabel('Frequency')\n",
    "plt.title('Histogram of Chromosome Frequencies')"
   ]
  },
  {
   "cell_type": "code",
   "execution_count": null,
   "metadata": {},
   "outputs": [],
   "source": [
    "#mutations surrounding MSH2:4436\n",
    "MSH2.head()"
   ]
  },
  {
   "cell_type": "markdown",
   "metadata": {},
   "source": [
    "## Final report\n",
    "In this analysis I started of by cleaning and isolating pathoegnic mutations according to the clinical signficance column. I defined dangerous mutations as those which was labels as_other Pathogenic, likely Pathogenic, or had some indication of Pathogenic features. The first 100 of this mutations can be seen above in the first deliverable table. There were a total of 9095 mutations after filtering according the criteria you had provided me with. In order to have a better assessment of which mutations are important for our company I decided to divide the mutations analyze the mutations specfic to each chromosome.\r\n",
    "\r\n",
    "The analysis of mutations on Chromosome 1 revealed a total of 2,650 mutations, associated with 342 unique genes. Notable genes include USH2A, ASPM, LMNA, ABCA4, and FH. The most common diseases linked to Chromosome 1 mutations include: Primary Autosomal Recessive Microcephaly 5, Usher Syndrome Type 2A with Retinitis Pigmentosa 39, Hereditary Cancer-Predisposing Syndrome, and Chédiak-Higashi Syndrome.\r\n",
    "\r\n",
    "Chromosome 2 exhibits a higher mutation count, totaling 4,409, with 256 unique genes involved. Predominant genes include MSH2, MSH6, COL3A1, BMPR2, and SCN1A. The prevalent diseases associated with Chromosome 2 mutations encompass Lynch Syndrome, Ehlers-Danlos Syndrome Type 4, Primary Pulmonary Hypertension, Hereditary Cancer-Predisposing Syndrome, and Severe Myoclonic Epilepsy in Infancy.\r\n",
    "\r\n",
    "Lastly, with respect to Chromosome 3, the analysis identifies 2,036 mutations associated with 177 unique genes. Key genes include MLH1, BTD, SCN5A, VHL, and CASR. The prevalent diseases linked to Chromosome 3 mutations comprise Lynch Syndrome, Biotinidase Deficiency, Hereditary Cancer-Predisposing Syndrome, Von Hippel-Lindau Syndrome, and Deficiency of Ferroxidase.\r\n",
    "\r\n",
    "Overall, as you can see in the historgam in the dliverable section chromosome 2 included the most mutations in the data set. More importantly I identifed gene MSH2 associated with chromosome 2 which had a total of 608 mutations associated with it. This more than any other gene associated with a chromsome in our data set. Therefore, I decided to delve deep into chromosome two. In doing so I uncovered that the positions 47463086 and 47403373 are notably associated with the highest number of mutations with MSH2. The predominant diseases linked MSH2 include Lynch Syndrome and Hereditary Cancers. These findings provide valuable insights into the specific genomic locations and associated diseases related to the 'MSH2:4436' gene on Chromosome 2. Our company may benefit from investing more resoruces to investigate the gene MSH2 in chromosome 2 and we should particularly focus on the specific locations of 47463086 and 47403373.\r\n",
    "\r\n",
    "373.\n",
    "\n",
    "\n",
    "\n",
    "\n",
    "\n",
    "\n"
   ]
  },
  {
   "cell_type": "code",
   "execution_count": null,
   "metadata": {},
   "outputs": [],
   "source": []
  }
 ],
 "metadata": {
  "colab": {
   "provenance": []
  },
  "kernelspec": {
   "display_name": "Python 3 (ipykernel)",
   "language": "python",
   "name": "python3"
  },
  "language_info": {
   "codemirror_mode": {
    "name": "ipython",
    "version": 3
   },
   "file_extension": ".py",
   "mimetype": "text/x-python",
   "name": "python",
   "nbconvert_exporter": "python",
   "pygments_lexer": "ipython3",
   "version": "3.11.3"
  }
 },
 "nbformat": 4,
 "nbformat_minor": 4
}
